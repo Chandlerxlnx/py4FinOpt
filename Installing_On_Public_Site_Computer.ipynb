{
 "cells": [
  {
   "cell_type": "markdown",
   "metadata": {},
   "source": [
    "# Installing Python and Git on Public Site Computers\n",
    "\n",
    "* For Python, we will use [Anaconda](https://www.continuum.io/downloads)\n",
    " * Download the Python 2.7 64 Bit Installer\n",
    " * If Chrome blocks it, go to [https://repo.continuum.io/archive/.winzip/](https://repo.continuum.io/archive/.winzip/) and download the file named Anaconda2-2.5.0-Windows-x86_64.zip\n",
    "* For Git, we will use [GitPortable](https://sourceforge.net/projects/gitportable/)\n",
    "* I will be installing the software to F:\\demo"
   ]
  },
  {
   "cell_type": "markdown",
   "metadata": {},
   "source": [
    "# Installing Anaconda\n",
    "\n",
    "![Open File Prompt](images/open_file_prompt_anaconda.png)\n",
    "\n",
    "![Initial Prompt](images/anaconda_initial_prompt.png)\n",
    "\n",
    "![License Prompt](images/anaconda_license.png)\n",
    "\n",
    "![Select a destination folder](images/anaconda_dest_folder.png)\n",
    "\n",
    "* Just click install and let it run in the background\n",
    "* When it finishes, click next then finish"
   ]
  },
  {
   "cell_type": "markdown",
   "metadata": {},
   "source": [
    "# Installing Git\n",
    "\n",
    "![Run Prompt](images/open_file_prompt_git.png)\n",
    "![Select Language](images/select_language_git.png)\n",
    "![Select destination folder](images/git_destination_folder.png)\n",
    "![Finish the Install](images/git_finish.png)"
   ]
  },
  {
   "cell_type": "markdown",
   "metadata": {},
   "source": [
    "# Setting up the Repo\n",
    "* Browse to F:\\demo\\GitPortable and double click on GitPortable.exe"
   ]
  },
  {
   "cell_type": "code",
   "execution_count": null,
   "metadata": {
    "collapsed": true
   },
   "outputs": [],
   "source": []
  }
 ],
 "metadata": {
  "kernelspec": {
   "display_name": "Python 2",
   "language": "python",
   "name": "python2"
  },
  "language_info": {
   "codemirror_mode": {
    "name": "ipython",
    "version": 2
   },
   "file_extension": ".py",
   "mimetype": "text/x-python",
   "name": "python",
   "nbconvert_exporter": "python",
   "pygments_lexer": "ipython2",
   "version": "2.7.6"
  }
 },
 "nbformat": 4,
 "nbformat_minor": 0
}
