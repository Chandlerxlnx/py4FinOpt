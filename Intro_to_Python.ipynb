{
 "cells": [
  {
   "cell_type": "markdown",
   "metadata": {},
   "source": [
    "# What is Python (Based on Nowell Strite's Introduction to Python)\n",
    "\n",
    "* High level, multi-purpose language\n",
    "* Readable\n",
    "* Object oriented\n",
    "* Interpreted\n",
    "* Efficient to develop in\n",
    "* Write once, run anywhere\n",
    "* Huge community and lots of open source projects\n",
    "\n",
    "![XKCD 353](https://imgs.xkcd.com/comics/python.png)\n"
   ]
  },
  {
   "cell_type": "markdown",
   "metadata": {},
   "source": [
    "# Comments and Indentation"
   ]
  },
  {
   "cell_type": "code",
   "execution_count": 1,
   "metadata": {
    "collapsed": false
   },
   "outputs": [
    {
     "name": "stdout",
     "output_type": "stream",
     "text": [
      "Hello World!\n",
      "x is True\n"
     ]
    }
   ],
   "source": [
    "# This is a comment\n",
    "\n",
    "\"\"\"\n",
    "This is sort of a multi-line comment.\n",
    "Any string not assigned to a variable can be considered a comment\n",
    "\n",
    "\"\"\"\n",
    "\n",
    "print \"Hello World!\"\n",
    "\n",
    "\n",
    "x = True\n",
    "# No curly braces, indentation determines what falls within the if statement\n",
    "# This results in readable code\n",
    "if x:\n",
    "    print \"x is True\"\n",
    "else:\n",
    "    print \"do something else\"\n"
   ]
  },
  {
   "cell_type": "markdown",
   "metadata": {},
   "source": [
    "# Data Types"
   ]
  },
  {
   "cell_type": "code",
   "execution_count": 2,
   "metadata": {
    "collapsed": true
   },
   "outputs": [],
   "source": [
    "### Strings ###\n",
    "\n",
    "# Python doesn't care if you use ' ' or \" \" for strings\n",
    "name = \"Jack Lamberti\"\n",
    "home = 'Connecticut'\n",
    "\n",
    "# You can also do escaping (escaping the ' in It's)\n",
    "x = 'It\\'s easy to read Python code'\n",
    "\n",
    "# And like above, we can do multi-line strings\n",
    "multi_line = \"\"\"This is a long\n",
    "multi-line\n",
    "string.\"\"\"\n",
    "\n",
    "also_multi_line = '''This is also a long\n",
    "multi-line\n",
    "string.'''\n",
    "\n"
   ]
  },
  {
   "cell_type": "code",
   "execution_count": 3,
   "metadata": {
    "collapsed": true
   },
   "outputs": [],
   "source": [
    "### Numeric Types ###\n",
    "\n",
    "# Python supports ints\n",
    "year = 2016\n",
    "\n",
    "# We can convert strings to ints as well:\n",
    "year = int('2016')\n",
    "\n",
    "# Floating Point Numbers\n",
    "sqrt_2 = 1.41421356237\n",
    "sqrt_2 = float(\"1.41421356237\")\n",
    "\n",
    "# Fixed Point Numbers\n",
    "from decimal import Decimal\n",
    "# Especially useful in finance\n",
    "open_price = Decimal('74.23')\n"
   ]
  },
  {
   "cell_type": "code",
   "execution_count": 4,
   "metadata": {
    "collapsed": false
   },
   "outputs": [
    {
     "name": "stdout",
     "output_type": "stream",
     "text": [
      "None\n"
     ]
    }
   ],
   "source": [
    "### Null ###\n",
    "\n",
    "# Instead of null, Python has the None data type\n",
    "x = None\n",
    "print x"
   ]
  },
  {
   "cell_type": "code",
   "execution_count": 5,
   "metadata": {
    "collapsed": false
   },
   "outputs": [
    {
     "name": "stdout",
     "output_type": "stream",
     "text": [
      "[58, 72, 95, None, 'Hi']\n",
      "5\n"
     ]
    }
   ],
   "source": [
    "### Lists ###\n",
    "\n",
    "# Create an empty list\n",
    "data = []\n",
    "\n",
    "# We can append to it\n",
    "data.append(58)\n",
    "\n",
    "# We can extend it\n",
    "data.extend([72, 95])\n",
    "\n",
    "# We can even add whatever we want to it\n",
    "data.append(None)\n",
    "data.append(\"Hi\")\n",
    "\n",
    "print data # [58, 72, 95, None, 'Hi']\n",
    "\n",
    "# Find the length of data:\n",
    "print len(data) # 5\n",
    "\n",
    "# We can fetch elements by index\n",
    "# Python lists start at 0 not 1, unlike MATLAB arrays\n",
    "element_1 = data[1] # 72\n",
    "last_element = data[-1] # 'Hi'\n",
    "\n",
    "# We can get slices of the list\n",
    "inner_elements = data[1:-1] # [72, 95, None]\n",
    "all_but_first = data[1:] # [72, 95, None, 'Hi']\n",
    "all_but_last = data[:-1] # [58, 72, 95, None]"
   ]
  },
  {
   "cell_type": "code",
   "execution_count": 6,
   "metadata": {
    "collapsed": false
   },
   "outputs": [
    {
     "name": "stdout",
     "output_type": "stream",
     "text": [
      "My name is Jack Lamberti\n",
      "I go to Lehigh University and went to high school at N/A\n",
      "\n",
      "['first_name', 'last_name', 'school', 5]\n",
      "['Jack', 'Lamberti', 'Lehigh University', 'favorite number']\n",
      "[('first_name', 'Jack'), ('last_name', 'Lamberti'), ('school', 'Lehigh University'), (5, 'favorite number')]\n"
     ]
    }
   ],
   "source": [
    "### Dictionaries ###\n",
    "\n",
    "# Create an empty dictionary (k->v map)\n",
    "me = {}\n",
    "\n",
    "me['first_name'] = 'Jack'\n",
    "me.update({\n",
    "    'last_name': 'Lamberti',\n",
    "    'school': 'Lehigh University'\n",
    "})\n",
    "\n",
    "# Keys don't have to be strings\n",
    "me[5] = 'favorite number'\n",
    "\n",
    "# And we can get the data back\n",
    "print \"My name is\", me['first_name'], me['last_name']\n",
    "\n",
    "# And we can handle missing data\n",
    "print \"I go to %s and went to high school at %s\"%(me.get('school', 'N/A'), me.get('high_school', 'N/A'))\n",
    "\n",
    "print \"\"\n",
    "\n",
    "# Get the keys in the dict\n",
    "print me.keys() # ['first_name', 'last_name', 'school', 5]\n",
    "\n",
    "# Get the values in the dict\n",
    "print me.values() # ['Jack', 'Lamberti', 'Lehigh University', 'favorite number']\n",
    "\n",
    "# Get the k,v pairs in the dict\n",
    "print me.items() # [('first_name', 'Jack'), ('last_name', 'Lamberti'), ('school', 'Lehigh University'), (5, 'favorite number')]\n"
   ]
  },
  {
   "cell_type": "code",
   "execution_count": 7,
   "metadata": {
    "collapsed": false
   },
   "outputs": [
    {
     "name": "stdout",
     "output_type": "stream",
     "text": [
      "True False True\n"
     ]
    }
   ],
   "source": [
    "### Booleans ###\n",
    "\n",
    "is_python = True\n",
    "\n",
    "# Everything can be cast into a boolean\n",
    "is_python = bool(\"yes it is\")\n",
    "\n",
    "# Empty types are typically False, and False and 0 are also False\n",
    "false_stuff = False or 0 or \"\" or {} or []  or None or False\n",
    "\n",
    "# And basically everything else is true\n",
    "true_stuff = True and 1 and \"Test\" and {'a': 'b'} and ['12', 12] and True\n",
    "\n",
    "print is_python, false_stuff, true_stuff\n",
    "\n"
   ]
  },
  {
   "cell_type": "markdown",
   "metadata": {},
   "source": [
    "# Operators"
   ]
  },
  {
   "cell_type": "code",
   "execution_count": 8,
   "metadata": {
    "collapsed": false
   },
   "outputs": [
    {
     "name": "stdout",
     "output_type": "stream",
     "text": [
      "20 10 24 4 100\n",
      "0 vs. 0.666666666667\n"
     ]
    }
   ],
   "source": [
    "### Arithmetic ###\n",
    "\n",
    "a = 10 # assign a = 10\n",
    "a += 1 # Python doesn't have the ++ operator\n",
    "a -= 1 # 10\n",
    "\n",
    "a *= 2 # 20\n",
    "\n",
    "b = a/2 # 20/2 = 10\n",
    "\n",
    "c = a + 4 # 20 + 4 = 24\n",
    "\n",
    "d = c % 5 # c modulo 5 = 4\n",
    "\n",
    "e = b**2 # b^2 = 100\n",
    "\n",
    "print a, b, c, d, e\n",
    "\n",
    "# Watch out for integer division\n",
    "print 2/3, \"vs.\", 2.0/3"
   ]
  },
  {
   "cell_type": "code",
   "execution_count": 9,
   "metadata": {
    "collapsed": false
   },
   "outputs": [
    {
     "name": "stdout",
     "output_type": "stream",
     "text": [
      "0.25*XOM + 0.75*WMT\n",
      "0.25*XOM + 0.75*WMT\n",
      "0.25*XOM + 0.75*WMT\n",
      "0.25*XOM + 0.75*WMT\n"
     ]
    }
   ],
   "source": [
    "### String Manipulation ###\n",
    "xom_amt = 0.25\n",
    "wmt_amt = 0.75\n",
    "\n",
    "# 0.25*XOM + 0.75*WMT\n",
    "print str(xom_amt) + '*XOM + ' + str(wmt_amt) + '*WMT'\n",
    "\n",
    "print \" + \".join([str(xom_amt) + '*XOM', str(wmt_amt) + '*WMT'])\n",
    "\n",
    "print \"%0.2f*%s + %0.2f*%s\"%(xom_amt, 'XOM', wmt_amt, 'WMT')\n",
    "\n",
    "print \"%(xom)s*XOM + %(wmt)s*WMT\"%({'xom': xom_amt, 'wmt': wmt_amt})\n"
   ]
  },
  {
   "cell_type": "code",
   "execution_count": 10,
   "metadata": {
    "collapsed": false
   },
   "outputs": [
    {
     "name": "stdout",
     "output_type": "stream",
     "text": [
      "True False\n"
     ]
    }
   ],
   "source": [
    "### Logical Comparisons ###\n",
    "\n",
    "x = True\n",
    "y = not x # False\n",
    "\n",
    "print x or y, x and y"
   ]
  },
  {
   "cell_type": "code",
   "execution_count": 11,
   "metadata": {
    "collapsed": false
   },
   "outputs": [
    {
     "name": "stdout",
     "output_type": "stream",
     "text": [
      "True\n",
      "False\n",
      "True\n",
      "False\n"
     ]
    }
   ],
   "source": [
    "### Identity Comparison ###\n",
    "\n",
    "# Identity\n",
    "print 1 is 1 == True # True\n",
    "\n",
    "# Non Identity\n",
    "print 1 is '1' == True # False\n",
    "\n",
    "print 1 == True # True\n",
    "print 2 == True # False\n"
   ]
  },
  {
   "cell_type": "code",
   "execution_count": 12,
   "metadata": {
    "collapsed": false
   },
   "outputs": [
    {
     "name": "stdout",
     "output_type": "stream",
     "text": [
      "False\n",
      "True\n",
      "False\n",
      "True\n"
     ]
    }
   ],
   "source": [
    "a, b = 1, 2\n",
    "\n",
    "print a > b # False\n",
    "print a <= b # True\n",
    "print a == b # False\n",
    "print a != b # True"
   ]
  },
  {
   "cell_type": "markdown",
   "metadata": {},
   "source": [
    "# Control Flow"
   ]
  },
  {
   "cell_type": "code",
   "execution_count": 13,
   "metadata": {
    "collapsed": false
   },
   "outputs": [
    {
     "name": "stdout",
     "output_type": "stream",
     "text": [
      "B\n"
     ]
    }
   ],
   "source": [
    "grade = 82\n",
    "\n",
    "if grade >= 90:\n",
    "    if grade == 100:\n",
    "        print 'A+'\n",
    "    else:\n",
    "        print \"A\"\n",
    "elif grade >= 80:\n",
    "    print \"B\"\n",
    "elif grade >= 70:\n",
    "    print \"C\"\n",
    "else:\n",
    "    print \"F\""
   ]
  },
  {
   "cell_type": "code",
   "execution_count": 14,
   "metadata": {
    "collapsed": false
   },
   "outputs": [
    {
     "name": "stdout",
     "output_type": "stream",
     "text": [
      "0 1 2 \n",
      "1 2 3 \n",
      "2 3 4\n"
     ]
    }
   ],
   "source": [
    "### Loops ###\n",
    "for x in range(3):\n",
    "    print x,\n",
    "\n",
    "print \"\"\n",
    "\n",
    "for x in range(1, 4):\n",
    "    print x,\n",
    "\n",
    "print \"\"\n",
    "\n",
    "for x in [2, 3, 4]:\n",
    "    print x,"
   ]
  },
  {
   "cell_type": "code",
   "execution_count": 15,
   "metadata": {
    "collapsed": false
   },
   "outputs": [
    {
     "name": "stdout",
     "output_type": "stream",
     "text": [
      "Position 0 has value 2\n",
      "Position 1 has value 3\n",
      "Position 2 has value 4\n",
      "\n",
      "The captial of Pennsylvania is Harrisburg\n",
      "The captial of Rhode Island is Providence\n"
     ]
    }
   ],
   "source": [
    "for i, x in enumerate([2, 3, 4]):\n",
    "    print \"Position\", i, 'has value', x\n",
    "\n",
    "print \"\"\n",
    "    \n",
    "state_capitals = {\n",
    "    'Pennsylvania': 'Harrisburg',\n",
    "    'Rhode Island': 'Providence'\n",
    "}\n",
    "\n",
    "for state, captial in state_capitals.items():\n",
    "    print \"The captial of %s is %s\"%(state, captial)"
   ]
  },
  {
   "cell_type": "code",
   "execution_count": 16,
   "metadata": {
    "collapsed": false
   },
   "outputs": [
    {
     "name": "stdout",
     "output_type": "stream",
     "text": [
      "\n",
      "3 2 1 0\n"
     ]
    }
   ],
   "source": [
    "print \"\"\n",
    "\n",
    "x = 3\n",
    "while x >= 0:\n",
    "    print x,\n",
    "    x -= 1"
   ]
  },
  {
   "cell_type": "code",
   "execution_count": 17,
   "metadata": {
    "collapsed": false
   },
   "outputs": [
    {
     "name": "stdout",
     "output_type": "stream",
     "text": [
      "['A', 'B', 'C', 'D', 'E', 'F', 'G', 'H', 'I', 'J', 'K', 'L', 'M', 'N', 'O', 'P', 'Q', 'R', 'S', 'T', 'U', 'V', 'W', 'X', 'Y', 'Z']\n",
      "[1, 3, 5, 7, 9, 11, 13, 15, 17, 19]\n",
      "[0, 2, 4, 6, 8, 10, 12, 14, 16, 18]\n"
     ]
    }
   ],
   "source": [
    "### List Comprehensions ###\n",
    "capital_letters = [chr(i+ord('A')) for i in range(26)]\n",
    "print capital_letters\n",
    "\n",
    "odds = [x for x in range(20) if x%2]\n",
    "evens = [x for x in range(20) if not x%2]\n",
    "print odds\n",
    "print evens"
   ]
  },
  {
   "cell_type": "code",
   "execution_count": 18,
   "metadata": {
    "collapsed": false
   },
   "outputs": [
    {
     "name": "stdout",
     "output_type": "stream",
     "text": [
      "{0: 0, 1: 1, 2: 4, 3: 9, 4: 16, 5: 25, 6: 36, 7: 49, 8: 64, 9: 81}\n",
      "2 -> 4\n",
      "9 -> 81\n"
     ]
    }
   ],
   "source": [
    "### Dictionary Comprehensions ###\n",
    "\n",
    "d = {i:i**2 for i in range(10)}\n",
    "print d\n",
    "\n",
    "print 2, '->', d[2]\n",
    "print 9, '->', d[9]"
   ]
  },
  {
   "cell_type": "markdown",
   "metadata": {},
   "source": [
    "# Functions"
   ]
  },
  {
   "cell_type": "code",
   "execution_count": 19,
   "metadata": {
    "collapsed": false
   },
   "outputs": [
    {
     "name": "stdout",
     "output_type": "stream",
     "text": [
      "Hello World!\n",
      "Function documentation\n",
      "##############################\n",
      "Help on function simple_function in module __main__:\n",
      "\n",
      "simple_function()\n",
      "    Function documentation\n",
      "\n",
      "##############################\n",
      "Help on _Helper in module site object:\n",
      "\n",
      "class _Helper(__builtin__.object)\n",
      " |  Define the builtin 'help'.\n",
      " |  This is a wrapper around pydoc.help (with a twist).\n",
      " |  \n",
      " |  Methods defined here:\n",
      " |  \n",
      " |  __call__(self, *args, **kwds)\n",
      " |  \n",
      " |  __repr__(self)\n",
      " |  \n",
      " |  ----------------------------------------------------------------------\n",
      " |  Data descriptors defined here:\n",
      " |  \n",
      " |  __dict__\n",
      " |      dictionary for instance variables (if defined)\n",
      " |  \n",
      " |  __weakref__\n",
      " |      list of weak references to the object (if defined)\n",
      "\n"
     ]
    }
   ],
   "source": [
    "def simple_function():\n",
    "    \"\"\"Function documentation\"\"\"\n",
    "    print \"Hello World!\"\n",
    "\n",
    "simple_function()\n",
    "# Function internals way\n",
    "print simple_function.__doc__\n",
    "\n",
    "print \"#\"*30\n",
    "\n",
    "# Or through Python's help function\n",
    "help(simple_function)\n",
    "\n",
    "print \"#\"*30\n",
    "\n",
    "# Even help(help) works\n",
    "help(help)"
   ]
  },
  {
   "cell_type": "code",
   "execution_count": 20,
   "metadata": {
    "collapsed": false
   },
   "outputs": [
    {
     "name": "stdout",
     "output_type": "stream",
     "text": [
      "3\n",
      "Welcome unknown!\n",
      "Welcome someuser!\n",
      "Welcome test!\n",
      "Welcome!\n",
      "Welcome Jack!\n",
      "Welcome test!\n"
     ]
    }
   ],
   "source": [
    "### Optional Arguments ###\n",
    "\n",
    "def add(x, y):\n",
    "    return x + y\n",
    "\n",
    "def welcome(username='unknown'):\n",
    "    return \"Welcome %s!\"%username\n",
    "\n",
    "print add(1, 2)\n",
    "print welcome()\n",
    "print welcome('someuser')\n",
    "print welcome(username='test')\n",
    "\n",
    "# Multiple optional args\n",
    "def welcome(full_name=None, username=None):\n",
    "    if full_name is not None:\n",
    "        return \"Welcome %s!\"%full_name\n",
    "    elif username is not None:\n",
    "        return \"Welcome %s!\"%username\n",
    "    else:\n",
    "        return \"Welcome!\"\n",
    "\n",
    "# No args passed\n",
    "print welcome()\n",
    "print welcome(full_name='Jack') # Equivalent to welcome('Jack')\n",
    "print welcome(username='test')"
   ]
  },
  {
   "cell_type": "code",
   "execution_count": 21,
   "metadata": {
    "collapsed": false
   },
   "outputs": [
    {
     "name": "stdout",
     "output_type": "stream",
     "text": [
      "[0, 1, 1, 2, 3, 5, 8]\n",
      "0 1 1 2 3 5 8\n"
     ]
    }
   ],
   "source": [
    "### Generators ###\n",
    "\n",
    "def fib(n):\n",
    "    \"\"\"Returns all fibonacci numbers up to n\"\"\"\n",
    "    results = []\n",
    "    a, b = 0, 1\n",
    "    while a < n:\n",
    "        results.append(a)\n",
    "        a, b = b, a + b\n",
    "    return results\n",
    "\n",
    "print fib(10) # [0, 1, 1, 2, 3, 5, 8]\n",
    "\n",
    "# Alternatively we can use a generator\n",
    "def fib():\n",
    "    \"\"\"Yield fibonacci numbers\"\"\"\n",
    "    a, b = 0, 1\n",
    "    while True:\n",
    "        yield a\n",
    "        a, b = b, a + b\n",
    "\n",
    "for f in fib():\n",
    "    if f >= 10:\n",
    "        break\n",
    "    print f,"
   ]
  },
  {
   "cell_type": "markdown",
   "metadata": {},
   "source": [
    "# Classes"
   ]
  },
  {
   "cell_type": "code",
   "execution_count": 22,
   "metadata": {
    "collapsed": false
   },
   "outputs": [
    {
     "name": "stdout",
     "output_type": "stream",
     "text": [
      "Jack\n",
      "Jack\n"
     ]
    }
   ],
   "source": [
    "class User(object):\n",
    "    name = None\n",
    "    email = None\n",
    "    \n",
    "    def some_method(self):\n",
    "        print self.name\n",
    "        \n",
    "u = User()\n",
    "u.name = 'Jack'\n",
    "u.some_method()\n",
    "\n",
    "# Or\n",
    "class UserMod(object):\n",
    "    def __init__(self, name=None, email=None):\n",
    "        self.name = name\n",
    "        self.email = email\n",
    "        \n",
    "    def some_method(self):\n",
    "        print self.name\n",
    "        \n",
    "um = UserMod(name='Jack')\n",
    "um.some_method()"
   ]
  },
  {
   "cell_type": "markdown",
   "metadata": {},
   "source": [
    "# Imports\n",
    " * Code re-use and isolation is good\n",
    " * Creates namespaces\n"
   ]
  },
  {
   "cell_type": "code",
   "execution_count": 23,
   "metadata": {
    "collapsed": false
   },
   "outputs": [
    {
     "name": "stdout",
     "output_type": "stream",
     "text": [
      "1.03374514419\n",
      "0.268421940398\n"
     ]
    }
   ],
   "source": [
    "import random\n",
    "import numpy as np\n",
    "\n",
    "array = [random.random() + 0.5 for _ in range(200)]\n",
    "print np.mean(array)\n",
    "print np.std(array)"
   ]
  },
  {
   "cell_type": "code",
   "execution_count": 24,
   "metadata": {
    "collapsed": false
   },
   "outputs": [
    {
     "name": "stdout",
     "output_type": "stream",
     "text": [
      "Today's date is 2016-02-28\n"
     ]
    }
   ],
   "source": [
    "# from <> import <> is another way to do an import\n",
    "from datetime import date\n",
    "print \"Today's date is\", date.today()"
   ]
  },
  {
   "cell_type": "markdown",
   "metadata": {},
   "source": [
    "# Error Handling"
   ]
  },
  {
   "cell_type": "code",
   "execution_count": 25,
   "metadata": {
    "collapsed": false
   },
   "outputs": [
    {
     "ename": "ZeroDivisionError",
     "evalue": "integer division or modulo by zero",
     "output_type": "error",
     "traceback": [
      "\u001b[1;31m---------------------------------------------------------------------------\u001b[0m",
      "\u001b[1;31mZeroDivisionError\u001b[0m                         Traceback (most recent call last)",
      "\u001b[1;32m<ipython-input-25-26899b61f189>\u001b[0m in \u001b[0;36m<module>\u001b[1;34m()\u001b[0m\n\u001b[0;32m      1\u001b[0m \u001b[1;31m# Divide by 0\u001b[0m\u001b[1;33m\u001b[0m\u001b[1;33m\u001b[0m\u001b[0m\n\u001b[1;32m----> 2\u001b[1;33m \u001b[0mx\u001b[0m \u001b[1;33m=\u001b[0m \u001b[1;36m1\u001b[0m\u001b[1;33m/\u001b[0m\u001b[1;36m0\u001b[0m\u001b[1;33m\u001b[0m\u001b[0m\n\u001b[0m",
      "\u001b[1;31mZeroDivisionError\u001b[0m: integer division or modulo by zero"
     ]
    }
   ],
   "source": [
    "# Divide by 0\n",
    "x = 1/0"
   ]
  },
  {
   "cell_type": "code",
   "execution_count": 26,
   "metadata": {
    "collapsed": false
   },
   "outputs": [
    {
     "name": "stdout",
     "output_type": "stream",
     "text": [
      "Encountered divide by zero!\n",
      "0\n",
      "Division was okay\n",
      "1\n"
     ]
    }
   ],
   "source": [
    "for x in [0, 1]:\n",
    "    try:\n",
    "        x = 1/x\n",
    "    except ZeroDivisionError:\n",
    "        print \"Encountered divide by zero!\"\n",
    "    else:\n",
    "        print \"Division was okay\"\n",
    "    finally:\n",
    "        print x"
   ]
  },
  {
   "cell_type": "markdown",
   "metadata": {},
   "source": [
    "# Resources\n",
    "* [Dive into Python](http://www.diveintopython.net/)\n",
    "* [Python docs](https://www.python.org/doc/)\n",
    "* [Hackerrank](https://www.hackerrank.com/domains/python/py-introduction)\n",
    "* [Codecademy](https://www.codecademy.com/learn/python)\n"
   ]
  },
  {
   "cell_type": "code",
   "execution_count": null,
   "metadata": {
    "collapsed": true
   },
   "outputs": [],
   "source": []
  }
 ],
 "metadata": {
  "kernelspec": {
   "display_name": "Python 2",
   "language": "python",
   "name": "python2"
  },
  "language_info": {
   "codemirror_mode": {
    "name": "ipython",
    "version": 2
   },
   "file_extension": ".py",
   "mimetype": "text/x-python",
   "name": "python",
   "nbconvert_exporter": "python",
   "pygments_lexer": "ipython2",
   "version": "2.7.6"
  }
 },
 "nbformat": 4,
 "nbformat_minor": 0
}
